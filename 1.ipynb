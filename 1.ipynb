{
 "cells": [
  {
   "cell_type": "code",
   "execution_count": 2,
   "metadata": {},
   "outputs": [],
   "source": [
    "import json\n",
    "import time\n",
    "import undetected_chromedriver as uc \n",
    "from bs4 import BeautifulSoup\n",
    "from selenium.webdriver.common.by import By\n",
    "from selenium.webdriver.common.keys import Keys\n",
    "from selenium.webdriver.support import expected_conditions as EC \n",
    "from selenium.webdriver.support.ui import WebDriverWait\n",
    "\n",
    "import pandas as pd \n",
    "import numpy as np"
   ]
  },
  {
   "cell_type": "code",
   "execution_count": 2,
   "metadata": {},
   "outputs": [],
   "source": [
    "def page_down(driver):\n",
    "    driver.execute_script('''\n",
    "        const scrollStep = 200;\n",
    "        const scrollInterval = 100;\n",
    "\n",
    "        const scrollHeight = document.documentElement.scrollHeight;\n",
    "        let currentPosition = 0;\n",
    "        const interval = setInterval(() => {\n",
    "            window.scrollBy(0, scrollStep);\n",
    "            currentPosition += scrollStep;\n",
    "\n",
    "            if (currentPosition >= scrollHeight) {\n",
    "                clearInterval(interval);\n",
    "            }\n",
    "        }, scrollInterval);\n",
    "    ''')\n"
   ]
  },
  {
   "cell_type": "code",
   "execution_count": 1,
   "metadata": {},
   "outputs": [
    {
     "ename": "NameError",
     "evalue": "name 'uc' is not defined",
     "output_type": "error",
     "traceback": [
      "\u001b[1;31m---------------------------------------------------------------------------\u001b[0m",
      "\u001b[1;31mNameError\u001b[0m                                 Traceback (most recent call last)",
      "Cell \u001b[1;32mIn[1], line 4\u001b[0m\n\u001b[0;32m      1\u001b[0m url \u001b[38;5;241m=\u001b[39m \u001b[38;5;124m'\u001b[39m\u001b[38;5;124mhttps://www.avito.ru/vladivostok/kvartiry/3-k._kvartira_754_m_59_et._4081196126\u001b[39m\u001b[38;5;124m'\u001b[39m\n\u001b[1;32m----> 4\u001b[0m driver \u001b[38;5;241m=\u001b[39m \u001b[43muc\u001b[49m\u001b[38;5;241m.\u001b[39mChrome()\n\u001b[0;32m      5\u001b[0m driver\u001b[38;5;241m.\u001b[39mimplicitly_wait(\u001b[38;5;241m5\u001b[39m)\n\u001b[0;32m      7\u001b[0m driver\u001b[38;5;241m.\u001b[39mget(url\u001b[38;5;241m=\u001b[39murl)\n",
      "\u001b[1;31mNameError\u001b[0m: name 'uc' is not defined"
     ]
    }
   ],
   "source": [
    "url = 'https://www.ozon.ru/product/967777207'\n",
    "\n",
    "\n",
    "driver = uc.Chrome()\n",
    "driver.implicitly_wait(5)\n",
    "\n",
    "driver.get(url=url)\n",
    "time.sleep(2)\n",
    "\n",
    "page_down(driver=driver)\n",
    "time.sleep(2)\n",
    "\n",
    "page_source = str(driver.page_source)\n",
    "soup = BeautifulSoup(page_source, features=\"lxml\")\n",
    "stat = soup.find('div', attrs={\"id\" : \"section-characteristics\"})\n",
    "    \n",
    "info_stat = stat.find_all('dd', {'class' : 'xk2_27'})\n",
    "info_name = stat.find_all('dt', {'class' : 'k2x_27'})\n",
    "\n",
    "# info = {}\n",
    "# for i in range(len(info_stat)):\n",
    "#     info[info_name[i].text] = info_stat[i].text\n",
    "\n",
    "driver.close()\n",
    "\n",
    "print(len(info_stat))\n",
    "print(len(info_name))\n",
    "print(stat)"
   ]
  },
  {
   "cell_type": "code",
   "execution_count": null,
   "metadata": {},
   "outputs": [],
   "source": []
  }
 ],
 "metadata": {
  "kernelspec": {
   "display_name": ".venv",
   "language": "python",
   "name": "python3"
  },
  "language_info": {
   "codemirror_mode": {
    "name": "ipython",
    "version": 3
   },
   "file_extension": ".py",
   "mimetype": "text/x-python",
   "name": "python",
   "nbconvert_exporter": "python",
   "pygments_lexer": "ipython3",
   "version": "3.12.5"
  }
 },
 "nbformat": 4,
 "nbformat_minor": 2
}
